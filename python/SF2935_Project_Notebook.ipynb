{
 "cells": [
  {
   "cell_type": "code",
   "execution_count": 2,
   "metadata": {},
   "outputs": [],
   "source": [
    "import pandas as pd\n",
    "import numpy as np\n",
    "from matplotlib import pyplot as plt\n",
    "import scipy.stats as st\n",
    "import sklearn as sk\n",
    "from sklearn.metrics import classification_report\n",
    "from sklearn.model_selection import train_test_split\n",
    "from sklearn.svm import SVC\n",
    "import sys\n",
    "import os\n",
    "from project_svm import import_data, parse_data, svm_routine"
   ]
  },
  {
   "cell_type": "code",
   "execution_count": 3,
   "metadata": {},
   "outputs": [],
   "source": [
    "datadir = '/Users/danvicente/Statistik/SF2935 - Modern Methods/Project/data/'\n",
    "training_set = datadir + 'project_train.csv'"
   ]
  },
  {
   "cell_type": "code",
   "execution_count": null,
   "metadata": {},
   "outputs": [],
   "source": [
    "# k-cross validation"
   ]
  },
  {
   "cell_type": "code",
   "execution_count": 6,
   "metadata": {},
   "outputs": [
    {
     "ename": "NameError",
     "evalue": "name 'import_data' is not defined",
     "output_type": "error",
     "traceback": [
      "\u001b[0;31m---------------------------------------------------------------------------\u001b[0m",
      "\u001b[0;31mNameError\u001b[0m                                 Traceback (most recent call last)",
      "\u001b[1;32m/Users/danvicente/Statistik/SF2935 - Modern Methods/Project/python/SF2935_Project_Notebook.ipynb Cell 4\u001b[0m line \u001b[0;36m1\n\u001b[0;32m----> <a href='vscode-notebook-cell:/Users/danvicente/Statistik/SF2935%20-%20Modern%20Methods/Project/python/SF2935_Project_Notebook.ipynb#W3sZmlsZQ%3D%3D?line=0'>1</a>\u001b[0m training_data \u001b[39m=\u001b[39m import_data(datadir\u001b[39m+\u001b[39mtraining_set)\n\u001b[1;32m      <a href='vscode-notebook-cell:/Users/danvicente/Statistik/SF2935%20-%20Modern%20Methods/Project/python/SF2935_Project_Notebook.ipynb#W3sZmlsZQ%3D%3D?line=1'>2</a>\u001b[0m features, labels, N \u001b[39m=\u001b[39m parse_data(training_data)\n\u001b[1;32m      <a href='vscode-notebook-cell:/Users/danvicente/Statistik/SF2935%20-%20Modern%20Methods/Project/python/SF2935_Project_Notebook.ipynb#W3sZmlsZQ%3D%3D?line=3'>4</a>\u001b[0m \u001b[39m# --- Hyperparameters --- #\u001b[39;00m\n",
      "\u001b[0;31mNameError\u001b[0m: name 'import_data' is not defined"
     ]
    }
   ],
   "source": [
    "training_data = import_data(datadir+training_set)\n",
    "features, labels, N = parse_data(training_data)\n",
    "    \n",
    "# --- Hyperparameters --- #\n",
    "gamma = 4\n",
    "kernel = 'linear'\n",
    "coef0 = 1\n",
    "test_size = 0.4 \n",
    "\n",
    "# --- Training  ---- #\n",
    "test_labels, predicted_labels = svm_routine(features=features,\n",
    "                                                labels=labels,\n",
    "                                                kernel = kernel,\n",
    "                                                parameter = gamma,\n",
    "                                                coef0=coef0,\n",
    "                                                test_size=test_size)\n",
    "\n",
    "# --- Evaluate SVM --- #\n",
    "result = classification_report(test_labels, predicted_labels)\n",
    "print(result)"
   ]
  }
 ],
 "metadata": {
  "kernelspec": {
   "display_name": "py311",
   "language": "python",
   "name": "python3"
  },
  "language_info": {
   "codemirror_mode": {
    "name": "ipython",
    "version": 3
   },
   "file_extension": ".py",
   "mimetype": "text/x-python",
   "name": "python",
   "nbconvert_exporter": "python",
   "pygments_lexer": "ipython3",
   "version": "3.10.9"
  },
  "orig_nbformat": 4
 },
 "nbformat": 4,
 "nbformat_minor": 2
}
